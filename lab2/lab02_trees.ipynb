{
 "cells": [
  {
   "cell_type": "markdown",
   "metadata": {},
   "source": [
    "# Лабораторная работа 2. Решающие деревья и случайные леса."
   ]
  },
  {
   "cell_type": "markdown",
   "metadata": {},
   "source": [
    "ФИО: Викулин Всеволлд Александрович\n",
    "\n",
    "Группа: 517"
   ]
  },
  {
   "cell_type": "code",
   "execution_count": 1,
   "metadata": {
    "collapsed": true
   },
   "outputs": [],
   "source": [
    "import numpy as np"
   ]
  },
  {
   "cell_type": "code",
   "execution_count": 2,
   "metadata": {
    "collapsed": true
   },
   "outputs": [],
   "source": [
    "from matplotlib import pyplot as plt\n",
    "%matplotlib inline"
   ]
  },
  {
   "cell_type": "code",
   "execution_count": 3,
   "metadata": {
    "collapsed": true
   },
   "outputs": [],
   "source": [
    "import pandas as pd\n",
    "from sklearn.linear_model import LinearRegression\n",
    "from sklearn.ensemble import RandomForestRegressor, GradientBoostingRegressor"
   ]
  },
  {
   "cell_type": "markdown",
   "metadata": {},
   "source": [
    "### I. Решающие деревья своими руками\n",
    "#### Задача 1.\n",
    "В этой части вам нужно реализовать свой класс для обучения решающего дерева в задаче бинарной классификации с возможностью обработки вещественных и категориальных признаков."
   ]
  },
  {
   "cell_type": "markdown",
   "metadata": {},
   "source": [
    "__1__\n",
    "\n",
    "Реализуйте следующую функцию:"
   ]
  },
  {
   "cell_type": "code",
   "execution_count": 9,
   "metadata": {
    "collapsed": false
   },
   "outputs": [
    {
     "data": {
      "text/plain": [
       "array([-100,   -1,    0,    1,    2,    4])"
      ]
     },
     "execution_count": 9,
     "metadata": {},
     "output_type": "execute_result"
    }
   ],
   "source": [
    "a = np.array([1,-100,4,0,4,-1,2])\n",
    "a[np.unique(a, return_index=True)[1]]"
   ]
  },
  {
   "cell_type": "code",
   "execution_count": 10,
   "metadata": {
    "collapsed": false
   },
   "outputs": [],
   "source": [
    "\n",
    "def gini(target_vector):\n",
    "    first_class_num = sum(target_vector)\n",
    "    first_class_prob = first_class_num / float(len(target_vector))\n",
    "    zero_class_prob = 1 - first_class_prob\n",
    "    return 1 - first_class_prob ** 2 - zero_class_prob ** 2\n",
    "\n",
    "def gain_for_split(threshold, feature_vector, target_vector, start_gini):\n",
    "    \n",
    "    left_split = target_vector[feature_vector <= threshold]\n",
    "    right_split = target_vector[feature_vector > threshold]    \n",
    "    gain =  - len(left_split) / (float(len(target_vector)))  * gini(left_split)\\\n",
    "                      - len(right_split) / (float(len(target_vector)))  * gini(right_split)\n",
    "    if threshold == 0.1:\n",
    "        print \"gain\", gain,  left_split, right_split, target_vector\n",
    "    return gain\n",
    "def unique_features(feature_vector, target_vector):\n",
    "    feature_dict = {}"
   ]
  },
  {
   "cell_type": "code",
   "execution_count": null,
   "metadata": {
    "collapsed": false
   },
   "outputs": [],
   "source": []
  },
  {
   "cell_type": "code",
   "execution_count": 83,
   "metadata": {
    "collapsed": false
   },
   "outputs": [
    {
     "name": "stdout",
     "output_type": "stream",
     "text": [
      "(array([ 0.1,  0.5]), array([-0.26666667, -0.4       ]), 0.10000000000000001, -0.26666666666666666)\n"
     ]
    }
   ],
   "source": [
    "def find_best_split(feature_vector, target_vector):\n",
    "    sort_target = target_vector[feature_vector.argsort()]\n",
    "    sort_feature = np.sort(feature_vector)\n",
    "    __sort_target , uniq_index = np.unique(sort_feature[::-1], return_index=True)\n",
    "    sort_feature = sort_feature[:-1]\n",
    "    uniq_index = (len(feature_vector) -1 - uniq_index)[:-1]\n",
    "    ones_counts = sum(sort_target)\n",
    "    zeroes_counts = len(sort_target) - sum(sort_target)\n",
    "    left_ones =  np.cumsum(sort_target)[uniq_index]\n",
    "    left_zeroes =  np.cumsum(1 - sort_target)[uniq_index]\n",
    "    right_ones =  (ones_counts -  np.cumsum(sort_target))[uniq_index]\n",
    "    right_zeroes =  (zeroes_counts - np.cumsum(1 - sort_target))[uniq_index]\n",
    "    sum_left = left_ones + left_zeroes\n",
    "    sum_right = right_ones + right_zeroes\n",
    "    gini_left = (1.0 - (left_ones/(1.0*sum_left)) ** 2 - (left_zeroes/(1.0*sum_left)) ** 2)\n",
    "    gini_right =  (1.0 - (right_ones/(1.0*sum_right)) ** 2 - (right_zeroes/(1.0*sum_right)) ** 2)\n",
    "    gain = -(sum_left/float(len(sort_target)) * gini_left +  sum_right/float(len(sort_target)) * gini_right)\n",
    "    best_id =  np.argmax(gain)\n",
    "    return  sort_feature[uniq_index], gain, sort_feature[uniq_index][best_id], gain[best_id]\n",
    "feature_vector = np.array([0.1,0.1,0.1,10,0.5])\n",
    "target_vector = np.array([1,0,1,0,0])\n",
    "print find_best_split(feature_vector, target_vector)\n",
    "#print find_best_split(feature_vector, target_vector)"
   ]
  },
  {
   "cell_type": "markdown",
   "metadata": {},
   "source": [
    "Я не понял, зачем Вы предлагаете  называть эту величину критерием Джини, хотя  это вообще говоря не критерий Джини, а кусок от Gainа. Я же буду называть то, что вы называете критерием Джиеи Gainом, потому что так правильнее"
   ]
  },
  {
   "cell_type": "markdown",
   "metadata": {},
   "source": [
    "Параметры:\n",
    "* feature_vector: вещественнозначный вектор значений признака (np.array)\n",
    "* target_vector: вектор классов объектов (np.array). len(feature_vector)==len(target_vector).\n",
    "\n",
    "Возвращаемые значения:\n",
    "* thresholds: отсортированный по возрастанию вектор со всеми возможными порогами, по которым объекты можно разделить на две различные подвыборки, или поддерева (np.array)\n",
    "* ginis: вектор со значениями критерия Джини для каждого из порогов в thresholds. (np.array, len(ginis)==len(thresholds))\n",
    "* оптимальный порог (число)\n",
    "* оптимальное значение критерия Джини (число)\n",
    "\n",
    "Под критерием Джини здесь подразумевается следующая функция:\n",
    "$$Q(R) = -\\frac {|R_l|}{|R|}H(R_l) -\\frac {|R_r|}{|R|}H(R_r),$$\n",
    "$R$ - множество объектов, $R_l$ и $R_r$ - объекты, попавшие в левое и правое поддерево, $H(R) = 1-p_1^2-p_0^2$, $p_1$, $p_0$ - доля объектов класса 1 и 0 соответственно.\n",
    "\n",
    "Указания:\n",
    "* Пороги, приводящие к попаданию в одно из поддеревьев пустого множества объектов, не рассматриваются.\n",
    "* За наличие в функции циклов балл будет снижен. Векторизуйте! :)"
   ]
  },
  {
   "cell_type": "code",
   "execution_count": null,
   "metadata": {
    "collapsed": false
   },
   "outputs": [],
   "source": []
  },
  {
   "cell_type": "markdown",
   "metadata": {},
   "source": [
    "__2__\n",
    "Загрузите таблицу [students.csv](https://drive.google.com/file/d/0B2zoFVYw1rN3a0d0Zm43TzQ4aUU/view?usp=sharing) (это немного преобразованный датасет [User Knowledge](https://archive.ics.uci.edu/ml/datasets/User+Knowledge+Modeling)). В ней признаки объекта записаны в первых пяти столбцах,а в последнем записана целевая переменная (класс: 0 или 1). Постройте на одном изображении пять кривых \"порог - значение критерия Джини\" для всех пяти признаков. Отдельно визуализируйте scatter-графики \"значение признака - класс\" для всех пяти признаков."
   ]
  },
  {
   "cell_type": "code",
   "execution_count": 16,
   "metadata": {
    "collapsed": false
   },
   "outputs": [
    {
     "name": "stdout",
     "output_type": "stream",
     "text": [
      "Populating the interactive namespace from numpy and matplotlib\n",
      "MAX gain for feature  STG  is  -0.453977075044  hold is  0.61\n",
      "MAX gain for feature  SCG  is  -0.46501949804  hold is  0.42\n",
      "MAX gain for feature  STR  is  -0.467338294455  hold is  0.36\n",
      "MAX gain for feature  LPR  is  -0.454668319293  hold is  0.38\n",
      "MAX gain for feature  PEG  is  -0.0860656027491  hold is  0.33\n"
     ]
    },
    {
     "data": {
      "image/png": "[encoded data removed]",
      "text/plain": [
       "<matplotlib.figure.Figure at 0x7fb1171bafd0>"
      ]
     },
     "metadata": {},
     "output_type": "display_data"
    }
   ],
   "source": [
    "students = pd.read_csv(\"students.csv\")\n",
    "import matplotlib.pyplot as plt\n",
    "%pylab inline\n",
    "pd.set_option('display.mpl_style', 'default')\n",
    "target = students[\" UNS\"].values\n",
    "names = []\n",
    "for column in students.columns:\n",
    "    if column != \" UNS\":\n",
    "        names.append(column)\n",
    "        bs = find_best_split(students[column].values, target)\n",
    "        threshold = bs[0]\n",
    "        gain = bs[1]\n",
    "        plt.plot(bs[0], bs[1])\n",
    "        print \"MAX gain for feature \", column, \" is \",bs[-1], \" hold is \", bs[-2]\n",
    "plt.legend(names, loc='best', fontsize = 12)\n",
    "plt.show()"
   ]
  },
  {
   "cell_type": "code",
   "execution_count": null,
   "metadata": {
    "collapsed": false
   },
   "outputs": [],
   "source": []
  },
  {
   "cell_type": "code",
   "execution_count": 153,
   "metadata": {
    "collapsed": false
   },
   "outputs": [
    {
     "data": {
      "image/png": "[encoded data removed]",
      "text/plain": [
       "<matplotlib.figure.Figure at 0x7fd068572b10>"
      ]
     },
     "metadata": {},
     "output_type": "display_data"
    }
   ],
   "source": [
    "plt.scatter(students[\"STG\"].values, target)\n",
    "plt.show()"
   ]
  },
  {
   "cell_type": "code",
   "execution_count": 154,
   "metadata": {
    "collapsed": false
   },
   "outputs": [
    {
     "data": {
      "image/png": "[encoded data removed]",
      "text/plain": [
       "<matplotlib.figure.Figure at 0x7fd06871b610>"
      ]
     },
     "metadata": {},
     "output_type": "display_data"
    }
   ],
   "source": [
    "plt.scatter(students[\"SCG\"].values, target)\n",
    "plt.show()"
   ]
  },
  {
   "cell_type": "code",
   "execution_count": 155,
   "metadata": {
    "collapsed": false
   },
   "outputs": [
    {
     "data": {
      "image/png": "[encoded data removed]",
      "text/plain": [
       "<matplotlib.figure.Figure at 0x7fd068780b10>"
      ]
     },
     "metadata": {},
     "output_type": "display_data"
    }
   ],
   "source": [
    "plt.scatter(students[\"STR\"].values, target)\n",
    "plt.show()"
   ]
  },
  {
   "cell_type": "code",
   "execution_count": 156,
   "metadata": {
    "collapsed": false
   },
   "outputs": [
    {
     "data": {
      "image/png": "[encoded data removed]",
      "text/plain": [
       "<matplotlib.figure.Figure at 0x7fd068583790>"
      ]
     },
     "metadata": {},
     "output_type": "display_data"
    }
   ],
   "source": [
    "plt.scatter(students[\"LPR\"].values, target)\n",
    "plt.show()"
   ]
  },
  {
   "cell_type": "code",
   "execution_count": 157,
   "metadata": {
    "collapsed": false
   },
   "outputs": [
    {
     "data": {
      "image/png": "[encoded data removed]",
      "text/plain": [
       "<matplotlib.figure.Figure at 0x7fd0686718d0>"
      ]
     },
     "metadata": {},
     "output_type": "display_data"
    }
   ],
   "source": [
    "plt.scatter(students[\"PEG\"].values, target)\n",
    "plt.show()"
   ]
  },
  {
   "cell_type": "markdown",
   "metadata": {},
   "source": [
    "__3__\n",
    "\n",
    "Исходя из кривых значений критерия Джини, по какому признаку нужно производить деление выборки на два поддерева? Согласуется ли этот результат с визуальной оценкой scatter-графиков? Как бы охарактеризовали вид кривой для \"хороших\" признаков, по которым выборка делится почти идеально? Чем отличаются кривые для признаков, по которым деление практически невозможно?"
   ]
  },
  {
   "cell_type": "markdown",
   "metadata": {},
   "source": [
    "Капитан подказывает, что лучшего проводить деление по признаю PEG (что бы это не значило). На графиках видно, что у других признаков нет такого четкого значения, которое позволяет разбить  на два класса адекватно. У этого признака же такое знаечние есть, где-то > 0.375 => класс 1, < 0.21 => класс 0. Критерий Джини говорит как раз тоже самое (со значением порога около 0.33), график Гейна для этого признака ОЧЕНЬ сильно лежит выше других. График гейна для хороших признаков должен выглядеть как раз примерно так: то есть в ярко выраженным максимумом, унимодальным. Кривые для плохих признаков будут размазаны по всем значениям порога, так что никакое значение не даст осущетимый выиграш в плане разбиения."
   ]
  },
  {
   "cell_type": "markdown",
   "metadata": {},
   "source": [
    "__4__\n",
    "\n",
    "Реализуйте класс для обучения решающих деревьев. Мы не будем усложнять класс множеством параметров, как в sklearn. Требования к классу:\n",
    "* Единственный параметр дерева - вектор, задающий типы признаков: если в позиции i стоит 0, то с признаком номер i нужно работать как с вещественным, если 1 - как с категориальным.\n",
    "* Чтобы классификатор \"распознавался\" функциями sklearn, необходимо наследовать его от BaseEstimator. \n",
    "* У класса должно быть реализовано два метода: fit и predict. Метод fit принимает на вход двумерный np.array - матрицу объекты-признаки и одномерный вектор ответов y, внутри метода происходит обучение дерева. Метод predict принимает на вход двумерную матрицу объекты-признаки (np.array) и возвращает вектор предсказанных классов (одномерный np.array) для всех объектов.\n",
    "* Построение дерева должно осуществляться согласно базовому жадному алгоритму. Выбор лучшего разбиения необходимо производить по критерию Джини. Критерий останова: все объекты в листе относятся к одному классу. Ответ в листе: класс объектов, находящихся в нем. Для категориальных признаков необходимо выполнить преобразование, описанное на [семинаре](https://github.com/esokolov/ml-course-msu/blob/master/ML16/lecture-notes/Sem04_trees.pdf) в разделе \"Учет категориальных признаков\".\n",
    "\n",
    "Далее будут даны рекомендации по реализации решающего дерева. Им следовать необязательно: например, вы можете использовать свою структуру для хранения дерева.\n",
    "* Дерево можно хранить в виде сложенных списков. Каждая внутренняя вершина дерева - список node длины 4: node[0] хранит индекс признака, по которому в данной вершине делается разбиение, node[1] - порог для разбиения, если i-й признак вещественный, и множество значений признака, с которыми объект попадает в левое поддерево, если i-й признак категориальный, node[2] - левое поддерево (список) и node[3] - правое поддерево (список). В листьях node состоит из единственного элемента - ответа, возвращаемого в этом листе. Пример простого дерева, разделяющего выборку по нулевому признаку по порогу 5 на два листа, возвращающих класс 0 и 1: [0, 5, [0], [1]]. Если в левом поддереве корня выполнять разделение по 1-му признаку по порогу 7: [0, 5, [1, 7, [0], [1]], [1]].\n",
    "* Внутри функции fit определяется рекурсивная функция fit_node(subX, suby, node), принимающая матрицу объекты-признаки subX и ответы на этих объектах suby, а также ссылку на пустой список node - вершину, в которой необходимо выполнить разбиение на две подвыборки. Функция fit_node должна заполнить этот список вызовами node.append(.....). Если suby состоит из одинаковых значений, нужно добавить к node это значение и выйти. Иначе выполнить перебор по всем признакам: для каждого признака с помощью функции find_best_split найти наилучшее разбиение и выбрать признак, дающий максимальное значение критерия Джини. Для категориальных признаков нужно выполнить специальное преобразование (см. семинар). Вершину нужно заполнить индексом выбранного признака, порогом или множеством значений (задающих разбиение), а затем рекурсивно вызвать fit_node для левого и правого поддерева.\n",
    "* Внутри функции predict также определяется рекурсивная функция predict_node(x, node), принимающая один объект и вершину. Она проверяет, является ли node листом (это можно определить по длине списка), если да - возвращает node[0], т. е. класс, задаваемый этим листом. Иначе функция определяет, к какому поддереву относится объект, и рекурсивно вызывает себя для этого поддерева.\n",
    "* В процессе тестирования кода может оказаться, что рекурсивные вызовы повторяются бесконечно. Так происходит, если в одно из поддеревьев попадает пустая подвыборка. Этого быть не должно: пороги, при которых все объекты попадают в одно поддерево, не рассматриваются (см. указания к функции find_best_split).\n",
    "* Дерево должно давать единичную долю верных ответов на обучающей выборке.\n",
    "* Протестировать, правильно ли выполняется преобразование категориальных признаков, можно на простой синтетической выборке с одним категориальным признаком, по которому объекты идеально делятся на два класса, и при этом такого эффекта нельзя достичь установкой порога на этот признак."
   ]
  },
  {
   "cell_type": "code",
   "execution_count": 619,
   "metadata": {
    "collapsed": true
   },
   "outputs": [],
   "source": [
    "from sklearn.base import BaseEstimator\n",
    "\n"
   ]
  },
  {
   "cell_type": "code",
   "execution_count": null,
   "metadata": {
    "collapsed": true
   },
   "outputs": [],
   "source": [
    "### Шаблон класса, удовлетворяющего требованиям\n",
    "class DecisionTree(BaseEstimator):\n",
    "    def __init__(self, types):\n",
    "        self.types = types\n",
    "        ### ╰( ͡° ͜ʖ ͡° )つ──☆*:・ﾟ\n",
    "\n",
    "    def fit(self, X, y):\n",
    "        ### ╰( ͡° ͜ʖ ͡° )つ──☆*:・ﾟ\n",
    "        \n",
    "    def predict(self, X):\n",
    "        ### ╰( ͡° ͜ʖ ͡° )つ──☆*:・ﾟ"
   ]
  },
  {
   "cell_type": "code",
   "execution_count": null,
   "metadata": {
    "collapsed": true
   },
   "outputs": [],
   "source": [
    "### Шаблон класса, следующего рекомендациям\n",
    "class DecisionTree(BaseEstimator):\n",
    "    def __init__(self, types):\n",
    "        self._tree = []\n",
    "        self.types = types\n",
    "\n",
    "    def fit(self, X, y):\n",
    "        def fit_node(subX, suby, node):\n",
    "            ### ╰( ͡° ͜ʖ ͡° )つ──☆*:・ﾟ\n",
    "            \n",
    "            \n",
    "        fit_node(X, y, self._tree)\n",
    "        \n",
    "    def predict(self, X):\n",
    "        def predict_node(x, node):\n",
    "            ### ╰( ͡° ͜ʖ ͡° )つ──☆*:・ﾟ\n",
    "            \n",
    "            \n",
    "        predicted = []\n",
    "        for x in X:\n",
    "            predicted.append(predict_node(x, self._tree))\n",
    "        return np.array(predicted)"
   ]
  },
  {
   "cell_type": "code",
   "execution_count": null,
   "metadata": {
    "collapsed": false
   },
   "outputs": [],
   "source": []
  },
  {
   "cell_type": "markdown",
   "metadata": {},
   "source": [
    "__5__\n",
    "\n",
    "Протестируйте свое решающее дерево на датасете [mushrooms](https://archive.ics.uci.edu/ml/datasets/Mushroom). Вам нужно скачать таблицу agaricus-lepiota.data (из [Data Folder](https://archive.ics.uci.edu/ml/machine-learning-databases/mushroom/)), прочитать ее с помощью pandas, применить к каждому столбцу LabelEncoder (из sklearn), чтобы преобразовать строковые имена категорий в натуральные числа. Первый столбец - это целевая переменная (e-edible, p-poisonous) Мы будем измерять качество с помощью accuracy, так что нам не очень важно, что будет классом 1, а что - классом 0. Обучите решающее дерево на половине случайно выбранных объектов (признаки в датасете категориальные) и сделайте предсказания для оставшейся половины. Вычислите accuracy.\n",
    "\n",
    "У вас должно получиться значение accuracy, равное единице (или очень близкое к единице), и не очень глубокое дерево."
   ]
  },
  {
   "cell_type": "code",
   "execution_count": 942,
   "metadata": {
    "collapsed": false
   },
   "outputs": [],
   "source": [
    "### ╰( ͡° ͜ʖ ͡° )つ──☆*:・ﾟ\n",
    "\n",
    "def divide(data,column,value, devide_data):\n",
    "    if devide_data is not None:\n",
    "        return [data[devide_data[:,column]<=value], data[devide_data[:,column]>value]]\n",
    "    return [data[data[:,column]<=value], data[data[:,column]>value]]\n",
    "\n",
    "class node:\n",
    "    def __init__(self,col=None ,value=None,results=None,tb=None,fb=None, leaf_depth=None, new_feature_values=None):\n",
    "        self.col=col\n",
    "        self.value=value\n",
    "        self.results=results\n",
    "        self.tb=tb\n",
    "        self.fb=fb\n",
    "        self.leaf_depth=leaf_depth      \n",
    "        self.new_feature_values = new_feature_values\n",
    "    \n",
    "class CustomTree(BaseEstimator):\n",
    "    result_tree=None\n",
    "    max_depth = None\n",
    "    features_types = None\n",
    "    \n",
    "    def __init__(self, features_types, max_depth = float('inf'), min_samples=10):  \n",
    "        self.max_depth=max_depth\n",
    "        self.features_types = features_types\n",
    "        self.min_samples = min_samples    \n",
    "        \n",
    "    def change_feature(self, feature, target_vector):\n",
    "        unique_feature, feature_counts = np.unique(feature, return_counts=True)\n",
    "        first_class_counts = [len(feature[(target_vector == 1) & (feature == i)]) for i in unique_feature]\n",
    "        final_value = np.array(first_class_counts) / (1.0 * np.array(feature_counts) )\n",
    "        res = list(unique_feature[np.argsort(final_value)])\n",
    "        final_dict = {}\n",
    "        for i in  unique_feature:\n",
    "            final_dict[i] = res.index(i)\n",
    "        return np.array([final_dict[x] for x in feature]), final_dict\n",
    "    \n",
    "    def creare_tree_node(self,rows,depth): \n",
    "        max_gain = -float(\"inf\")\n",
    "        need_to_save_changes = False\n",
    "        if depth>=self.max_depth or len(rows) < self.min_samples:\n",
    "            return node(results=rows[:,-1].mean(),leaf_depth=depth)\n",
    "        best_criteria=None\n",
    "        best_sets=None          \n",
    "        target=rows[:,-1]\n",
    "        if sum(target) == len(target) or sum(target) == 0:\n",
    "            return node(results=target.mean(),leaf_depth=depth)\n",
    "            \n",
    "        start_gini = gini(target)\n",
    "        new_rows = np.copy(rows)\n",
    "        for column in range(0, self.features_count):\n",
    "            if len(np.unique(rows[:, column])) < 2:\n",
    "                continue\n",
    "            if self.features_types[column] == 1:\n",
    "                new_rows[:, column], new_dict = self.change_feature(feature=new_rows[:, column], target_vector=target)\n",
    "            new_column = new_rows[:, column]\n",
    "            features, column_gain, column_threshold, best_column_gain = find_best_split(new_column, target)\n",
    "            if best_column_gain > max_gain:\n",
    "                if self.features_types[column] == 1:\n",
    "                    need_to_save_changes = True\n",
    "                    feature_map = new_dict\n",
    "                else: \n",
    "                    need_to_save_changes = False\n",
    "                    \n",
    "                max_gain = best_column_gain\n",
    "                best_column = column\n",
    "                best_threshold = column_threshold\n",
    "        if start_gini + max_gain > 0:\n",
    "            best_sets=divide(data=rows, devide_data=new_rows, column=best_column, value=best_threshold) \n",
    "            trueBranch=self.creare_tree_node(best_sets[0], depth+1)\n",
    "            falseBranch=self.creare_tree_node(best_sets[1], depth+1)\n",
    "            \n",
    "            if need_to_save_changes:\n",
    "                return node(col=best_column,value=best_threshold, \\\n",
    "                        tb=trueBranch, fb=falseBranch, leaf_depth=depth, new_feature_values=feature_map)\n",
    "            else:\n",
    "                return node(col=best_column,value=best_threshold, \\\n",
    "                        tb=trueBranch, fb=falseBranch, leaf_depth=depth)\n",
    "                \n",
    "        else:\n",
    "            return node(results=target.mean(), leaf_depth=depth)\n",
    "        \n",
    "    def fit(self,X_train,y_train):\n",
    "        rows=numpy.concatenate((X_train, numpy.array([y_train]).T), axis=1)\n",
    "        self.features_count = X_train.shape[1]\n",
    "        self.result_tree=self.creare_tree_node(rows,0)\n",
    "        \n",
    "    def predict_one_observation(self, tree, observation, err):\n",
    "        if tree.results!=None:\n",
    "            return (int)(tree.results >= 0.5)\n",
    "        else:\n",
    "            v=observation[tree.col]\n",
    "            if tree.new_feature_values is not None:\n",
    "                if v in tree.new_feature_values:\n",
    "                    v = tree.new_feature_values[v]                \n",
    "                else:\n",
    "                    return self.predict_one_observation(tree.tb,observation, err + 1)\n",
    "            branch=None\n",
    "            if v<=tree.value: \n",
    "                branch=tree.tb\n",
    "            else: \n",
    "                branch=tree.fb\n",
    "        return self.predict_one_observation(branch,observation, err + 1)\n",
    "    \n",
    "    def predict(self,data):\n",
    "        prediction_result=[]\n",
    "        for i in xrange(0,data.shape[0]):\n",
    "            prediction_result.append(self.predict_one_observation(self.result_tree,data[i,:], 0))\n",
    "        return numpy.array(prediction_result)\n",
    "    "
   ]
  },
  {
   "cell_type": "code",
   "execution_count": null,
   "metadata": {
    "collapsed": false
   },
   "outputs": [],
   "source": []
  },
  {
   "cell_type": "code",
   "execution_count": 927,
   "metadata": {
    "collapsed": false
   },
   "outputs": [
    {
     "name": "stdout",
     "output_type": "stream",
     "text": [
      "(12959, 8) (12959,)\n"
     ]
    }
   ],
   "source": [
    "from sklearn.cross_validation import train_test_split\n",
    "tic_tac = pd.read_csv(\"nursery.csv\").values\n",
    "X = tic_tac[:, :-1]\n",
    "yy = tic_tac[:,-1]\n",
    "y = []\n",
    "for i in yy:\n",
    "    if 'not_recom' in i or 'recom' in i:\n",
    "        y.append(0)\n",
    "    elif 'very_recom' in i or  'priority' in i or  'spec_prior' in i:\n",
    "        y.append(1)\n",
    "    else:\n",
    "        print i\n",
    "y = np.array(y)\n",
    "\n",
    "for col in range (0, X.shape[1]):\n",
    "    le = preprocessing.LabelEncoder()\n",
    "    X[:,col] = le.fit_transform(X[:,col])\n",
    "print X.shape, y.shape\n",
    "X_train, X_test, y_train, y_test = train_test_split( X, y, test_size=0.5, random_state=42)"
   ]
  },
  {
   "cell_type": "code",
   "execution_count": 937,
   "metadata": {
    "collapsed": false
   },
   "outputs": [
    {
     "name": "stdout",
     "output_type": "stream",
     "text": [
      "(12959, 27)\n"
     ]
    }
   ],
   "source": [
    "from sklearn.preprocessing import  OneHotEncoder\n",
    "enc = OneHotEncoder()\n",
    "one_hot_X = enc.fit_transform(X).toarray()\n",
    "print one_hot_X.shape"
   ]
  },
  {
   "cell_type": "code",
   "execution_count": 941,
   "metadata": {
    "collapsed": false
   },
   "outputs": [],
   "source": [
    "from sklearn.cross_validation import StratifiedKFold\n",
    "kf = StratifiedKFold(y=y, n_folds=10)\n",
    "a = []\n",
    "b = []\n",
    "\n",
    "for train_index, test_index in kf:\n",
    "    X_train, X_test = one_hot_X[train_index], one_hot_X[test_index]\n",
    "    y_train, y_test = y[train_index], y[test_index]\n",
    "    new_tree = CustomTree([0] * one_hot_X.shape[1])\n",
    "    clf = DecisionTreeClassifier()\n",
    "    new_tree.fit(X_train, y_train)\n",
    "    clf.fit(X_train, list(y_train))\n",
    "    a.append(accuracy_score(list(y_test), new_tree.predict(X_test)))\n",
    "    b.append(accuracy_score(list(y_test), clf.predict(X_test)))\n",
    "a = np.mean(a)\n",
    "b = np.mean(b)"
   ]
  },
  {
   "cell_type": "code",
   "execution_count": 940,
   "metadata": {
    "collapsed": false
   },
   "outputs": [
    {
     "data": {
      "text/html": [
       "<div>\n",
       "<table border=\"1\" class=\"dataframe\">\n",
       "  <thead>\n",
       "    <tr style=\"text-align: right;\">\n",
       "      <th></th>\n",
       "      <th>alg</th>\n",
       "      <th>cars</th>\n",
       "      <th>mushrooms</th>\n",
       "      <th>nurcery</th>\n",
       "      <th>tic_tac</th>\n",
       "    </tr>\n",
       "  </thead>\n",
       "  <tbody>\n",
       "    <tr>\n",
       "      <th>0</th>\n",
       "      <td>CustomTree, real features</td>\n",
       "      <td>0.936</td>\n",
       "      <td>0.9992</td>\n",
       "      <td>0.9705</td>\n",
       "      <td>0.735</td>\n",
       "    </tr>\n",
       "    <tr>\n",
       "      <th>1</th>\n",
       "      <td>CustomTree, categor features</td>\n",
       "      <td>0.922</td>\n",
       "      <td>1.0000</td>\n",
       "      <td>0.9740</td>\n",
       "      <td>0.790</td>\n",
       "    </tr>\n",
       "    <tr>\n",
       "      <th>2</th>\n",
       "      <td>CustomTree, one hot, real</td>\n",
       "      <td>0.922</td>\n",
       "      <td>0.9996</td>\n",
       "      <td>0.9450</td>\n",
       "      <td>0.810</td>\n",
       "    </tr>\n",
       "    <tr>\n",
       "      <th>3</th>\n",
       "      <td>Sklearn</td>\n",
       "      <td>0.910</td>\n",
       "      <td>0.9600</td>\n",
       "      <td>0.9710</td>\n",
       "      <td>0.725</td>\n",
       "    </tr>\n",
       "  </tbody>\n",
       "</table>\n",
       "</div>"
      ],
      "text/plain": [
       "                            alg   cars  mushrooms  nurcery  tic_tac\n",
       "0     CustomTree, real features  0.936     0.9992   0.9705    0.735\n",
       "1  CustomTree, categor features  0.922     1.0000   0.9740    0.790\n",
       "2     CustomTree, one hot, real  0.922     0.9996   0.9450    0.810\n",
       "3                       Sklearn  0.910     0.9600   0.9710    0.725"
      ]
     },
     "execution_count": 940,
     "metadata": {},
     "output_type": "execute_result"
    }
   ],
   "source": [
    "result = {\"alg\" : [], \"mushrooms\" : [], \"tic_tac\" : [], \"cars\" : [], \"nurcery\" : []}\n",
    "result['alg'].append('CustomTree, real features')\n",
    "result['alg'].append('CustomTree, categor features')\n",
    "result['alg'].append('CustomTree, one hot, real')\n",
    "result['alg'].append('Sklearn')\n",
    "result['mushrooms'].append(0.9992)\n",
    "result['mushrooms'].append(1.0)\n",
    "result['mushrooms'].append(0.9996)\n",
    "result['mushrooms'].append(0.96)\n",
    "result['tic_tac'].append(0.735)\n",
    "result['tic_tac'].append(0.79)\n",
    "result['tic_tac'].append(0.81)\n",
    "result['tic_tac'].append(0.725)\n",
    "result['cars'].append(0.936)\n",
    "result['cars'].append(0.922)\n",
    "result['cars'].append(0.922)\n",
    "result['cars'].append(0.91)\n",
    "result['nurcery'].append(0.9705)\n",
    "result['nurcery'].append(0.974)\n",
    "result['nurcery'].append(0.945)\n",
    "result['nurcery'].append(0.971)\n",
    "pd.DataFrame(result)"
   ]
  },
  {
   "cell_type": "markdown",
   "metadata": {},
   "source": [
    "__6__\n",
    "\n",
    "Загрузите следующие наборы данных (напомним, что pandas умеет загружать файлы по url, в нашем случае это файл \\*.data), предварительно ознакомившись с описанием признаков и целевой переменной в каждом из них (она записаны в Data Folder, в файле *.names): \n",
    "* [mushrooms](https://archive.ics.uci.edu/ml/datasets/Mushroom) (загрузили в предыдущем пункте, классы записаны в нулевом столбце),\n",
    "* [tic-rac-toe](https://archive.ics.uci.edu/ml/datasets/Tic-Tac-Toe+Endgame) (классы записаны в последнем столбце)\n",
    "* [cars](https://archive.ics.uci.edu/ml/datasets/Car+Evaluation) (классы записаны в последнем столбце, считаем что unacc, acc - это класс 0, good, vgood - класс 1)\n",
    "* [nurcery](https://archive.ics.uci.edu/ml/datasets/Nursery) (классы записаны в последнем столбце, считаем, что not_recom и recom - класс 0, very_recom, priority, spec_prior - класс 1).\n",
    "\n",
    "Закодируйте категориальные признаки, использовав LabelEncoder. С помощью cross_val_score (cv=10) оцените accuracy на каждом из этих наборов данных следующих алгоритмов:\n",
    "* DecisionTree, считающий все признаки вещественными\n",
    "* DecisionTree, считающий все признаки категориальными\n",
    "* DecisionTree, считающий все признаки вещественными + one-hot-encoding всех признаков\n",
    "* DecisionTreeClassifier из sklearn. Запишите результат в pd.DataFrame (по строкам - наборы данных, по столбцам - алгоритмы).\n",
    "\n",
    "Рекомендации:\n",
    "* Чтобы cross_val_score вычисляла точность, нужно передать scorer=make_scorer(accuracy_score), обе фукнции из sklearn.metrics.\n",
    "* Если вам позволяет память (а она скорее всего позволяет), указывайте параметр sparse=False в OneHotEncoder (если вы, конечно, используете его). Иначе вам придется добиваться того, чтобы ваша реализация дерева умела работать с разреженными матрицами (что тоже, в целом, не очень сложно)."
   ]
  },
  {
   "cell_type": "markdown",
   "metadata": {
    "collapsed": false
   },
   "source": [
    "Здесь я напишу все свои мысли по поводу этого задания. Это это очень плохо задавать такие вопросы и ставить тактие эксперименты. Данныъ очень мало, алгоритм, который тестируется очень склонен к переобучению. Одним варьированием параметра глубина, можно улучшить результат процентов на 15 20. Радует, что мое дерево примерно такое же склерновское. В этих числах рандома больше чем зравого смысла, каких-то глобальных вывовод делать не стоит.\n",
    "\n",
    "Да, есть компонента случайности. Мы рандомно шафлим. Но даже если радномно пошафлили, все равно можно например случайно выдавать класс, если в узел попало одинаковое число объекта из трейна. От случайности не уйти и лучше ее не трогать.\n",
    "\n",
    "Я кстати был сильно удивлен, казалось, что такая обработка категориальных признаков сделает все только хуже. Оказалось, что нет, иногда ставноится лучше, но, как я говорил раньше, эти изменения носят более случайный характер, так как глубина дерева все эти изменения легко бьет. Большой минус вот этого вашего метода - нужно хранить метаифнормацию о том, какие знаечния категориальных признаков находятся в узле. При БИГДАТЕ это сильно загрузит Ваши леса.\n",
    "\n",
    "Ну еще пору слов про OneHot. НИ РАЗУ в моей маленькой практике датамайнера она мне не помогла, НИ РАЗУ. Потому что, наверное, я юзаю бустинг почти всегда, если данных немного. А если вы юзаете дерево, да еще с небольшой глубиной и даете ей на выбор 100500 фичей, каждая из которой может отделить только 0.000001 процент выборки, то это отстой. Юзайте OneHot на линейных алгоритмах, например. Ну или на глубоких деревьях (ха-ха).\n",
    "\n"
   ]
  },
  {
   "cell_type": "markdown",
   "metadata": {},
   "source": [
    "__7__\n",
    "\n",
    "Проанализируйте результаты эксперимента. \n",
    "Одинаково ли для разных наборов данных ранжируются алгоритмы? \n",
    "Порассуждайте, почему так происходит. \n",
    "\n",
    "Обратите внимание на значение признаков в разных наборах данных. \n",
    "Присутствует ли в результатах какая-то компонента случайности? \n",
    "Можно ли повлиять на нее и улушить работу алгоритмов?"
   ]
  },
  {
   "cell_type": "markdown",
   "metadata": {},
   "source": [
    "(・・ ) ?\n"
   ]
  },
  {
   "cell_type": "code",
   "execution_count": null,
   "metadata": {
    "collapsed": false
   },
   "outputs": [],
   "source": []
  },
  {
   "cell_type": "markdown",
   "metadata": {
    "collapsed": true
   },
   "source": [
    "### II. Композиции деревьев\n",
    "#### Задача 2. Сравнение композиционных методов над решающими деревьями\n",
    "__8 (1 балл)__\n",
    "\n",
    "Выполните следующие шаги:\n",
    "1. Загрузите датасет [winequality-red.csv](https://archive.ics.uci.edu/ml/machine-learning-databases/wine-quality/winequality-red.csv) в датафрейм. Последний столбец - целевая переменная (содержит классы).\n",
    "1. С помощью cross_val_score с cv=3 оцените качество (accuracy) следующих классификаторов:\n",
    "    * DecisionTreeClassifier\n",
    "    * BaggingClassifier со 100 деревьями\n",
    "    * BaggingClassifier со 100 деревьями; каждое дерево обучается только по половине случайно выбранных признаков (см. параметры метода)\n",
    "    * RandomForestClassifier со 100 деревьями\n",
    "    \n",
    "Значение получается шумное, но в целом у вас должно получиться, что качество возрастает с каждым следующим алгоритмом. Этот пример демонстрирует, что RandomForest - это более сложный алгоритм, чем бэггинг и бэггинг со случайными подпространствами. "
   ]
  },
  {
   "cell_type": "code",
   "execution_count": 1006,
   "metadata": {
    "collapsed": false
   },
   "outputs": [
    {
     "name": "stdout",
     "output_type": "stream",
     "text": [
      "0.475912450174\n",
      "0.560415334749\n",
      "0.564839429261\n",
      "0.556612311491\n",
      "0.562987905109\n"
     ]
    }
   ],
   "source": [
    "data = pd.read_csv(\"winequality-red.csv\", sep=';').values\n",
    "X = data[:, :-1]\n",
    "y  = data[:, -1]\n",
    "from sklearn.ensemble import RandomForestClassifier\n",
    "from sklearn.ensemble import BaggingClassifier\n",
    "from sklearn.cross_validation import cross_val_score\n",
    "clf = DecisionTreeClassifier()\n",
    "scores_dt = cross_val_score(clf, X, y, cv=5)\n",
    "clf = BaggingClassifier(base_estimator=DecisionTreeClassifier(), n_estimators=100)\n",
    "scores_bc = cross_val_score(clf, X, y, cv=5)\n",
    "clf = BaggingClassifier(base_estimator=DecisionTreeClassifier(), n_estimators=100, max_features=0.5)\n",
    "scores_bc2 = cross_val_score(clf, X, y, cv=5)\n",
    "clf = RandomForestClassifier(n_estimators=100, max_features=0.65)\n",
    "scores_rf = cross_val_score(clf, X, y, cv=5)\n",
    "clf = RandomForestClassifier(n_estimators=100)\n",
    "scores_rf2 = cross_val_score(clf, X, y, cv=5)\n",
    "print scores_dt.mean()\n",
    "print scores_bc.mean()\n",
    "print scores_bc2.mean()\n",
    "print scores_rf.mean()\n",
    "print scores_rf2.mean()"
   ]
  },
  {
   "cell_type": "markdown",
   "metadata": {},
   "source": [
    "Тоже непонятное упражнение. Дайте мне помзменять параметр max_features и весь топ изменится в любую сторону.  Я еще не понял, чем рандом форест \"сложнее\" беггинга + RSM, когда я его делал я делал только так и сравнивал со склерном. Ну он был вполне на склерновском уровне."
   ]
  },
  {
   "cell_type": "markdown",
   "metadata": {},
   "source": [
    "#### Задача 3. Число деревьев в случайном лесе и в градиентном бустинге\n",
    "В этой задаче мы рассмотрим, переобучаются ли композиционные алгоритмы с увеличением числа деревьев.\n",
    "\n",
    "__9__\n",
    "\n",
    "Продолжим работать с набором данных [winequality-red.csv](https://archive.ics.uci.edu/ml/machine-learning-databases/wine-quality/winequality-red.csv). Разделите выборку на обучение и контроль с пропорции 7:3, предварительно перемешав объекты. Переберите значения от 100 до 5000 деревьев с шагом 10, посчитайте accuracy на тестовой выборке для каждого числа деревьев и постройте график зависимости качества от числа деревьев.\n",
    "\n",
    "Рекомендация.\n",
    "\n",
    "Если каждый раз обучать RandomForest с нуля, придётся обучить в общей сумме $10 + 20 + \\ldots + 5000$ деревьев.\n",
    "Однако, как мы знаем, деревья в случайных лесах строятся независимо и параллельно, поэтому можно обучить всего 5000 деревьев.\n",
    "\n",
    "Для этого в при создании объекта класса RandomForestClassifier нужно указать в том числе warm_start=True. Затем обучить алгоритм с помощью метода fit, использовать метод predict для классификации. После этого с помощью метода set_params изменить параметр n_estimators. Если к полученному объекту применить метод fit, внутри него будет обучаться только недостающее число деревьев.\n",
    "\n",
    "Переобучается ли случайный лес с увеличением числа деревьев?"
   ]
  },
  {
   "cell_type": "code",
   "execution_count": 76,
   "metadata": {
    "collapsed": false
   },
   "outputs": [],
   "source": [
    "from sklearn.cross_validation import  train_test_split\n",
    "from sklearn.ensemble import RandomForestClassifier\n",
    "data = pd.read_csv(\"winequality-red.csv\", sep=';').values\n",
    "X = data[:, :-1]\n",
    "y  = data[:, -1]\n",
    "X_train, X_test, y_train, y_test = train_test_split( X, y, test_size=0.3, random_state=42)\n"
   ]
  },
  {
   "cell_type": "code",
   "execution_count": 77,
   "metadata": {
    "collapsed": false
   },
   "outputs": [],
   "source": [
    "errors = []\n",
    "all_sizes = range(1010, 5010, 10)\n",
    "for size in all_sizes:\n",
    "    clf =  RandomForestClassifier(n_estimators=size, n_jobs = 4)\n",
    "    clf.fit(X_train, y_train)\n",
    "    errors.append(accuracy_score(y_test, clf.predict(X_test)))\n",
    "   \n",
    "        "
   ]
  },
  {
   "cell_type": "code",
   "execution_count": 81,
   "metadata": {
    "collapsed": false
   },
   "outputs": [
    {
     "data": {
      "image/png": "[encoded data removed]",
      "text/plain": [
       "<matplotlib.figure.Figure at 0x7f8c73dde750>"
      ]
     },
     "metadata": {},
     "output_type": "display_data"
    }
   ],
   "source": [
    "import matplotlib.pyplot as plt\n",
    "plt.plot(errors)\n",
    "plt.show()"
   ]
  },
  {
   "cell_type": "markdown",
   "metadata": {},
   "source": [
    "Нет, он не переобучается. Для этого не нужно было ничего строить, а просто подумать над самим алгоритмом. Однако в таком масштабе кажется, что ошибка колеблется. Колеблется она совсем незначительно,потому что шаг очень маленький, так что в кагле всегда пишет n_estimators = 100500."
   ]
  },
  {
   "cell_type": "markdown",
   "metadata": {},
   "source": [
    "Здесь вы можете поделиться мыслями о задании."
   ]
  },
  {
   "cell_type": "markdown",
   "metadata": {
    "collapsed": true
   },
   "source": [
    "Вам не нравятся мои видосики, больше я ничего отправлять не буду :((((((("
   ]
  },
  {
   "cell_type": "markdown",
   "metadata": {},
   "source": [
    "(((((((((((((((((((((("
   ]
  },
  {
   "cell_type": "markdown",
   "metadata": {},
   "source": [
    "А здесь — вставить нарисованную вами смешную картинку."
   ]
  }
 ],
 "metadata": {
  "kernelspec": {
   "display_name": "Python 2",
   "language": "python",
   "name": "python2"
  },
  "language_info": {
   "codemirror_mode": {
    "name": "ipython",
    "version": 2
   },
   "file_extension": ".py",
   "mimetype": "text/x-python",
   "name": "python",
   "nbconvert_exporter": "python",
   "pygments_lexer": "ipython2",
   "version": "2.7.12"
  }
 },
 "nbformat": 4,
 "nbformat_minor": 0
}
